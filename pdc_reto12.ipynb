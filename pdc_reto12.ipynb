{
  "nbformat": 4,
  "nbformat_minor": 0,
  "metadata": {
    "colab": {
      "provenance": []
    },
    "kernelspec": {
      "name": "python3",
      "display_name": "Python 3"
    },
    "language_info": {
      "name": "python"
    }
  },
  "cells": [
    {
      "cell_type": "markdown",
      "source": [
        "1. Desarrollar un algoritmo que imprima de manera ascendente los valores (todos del mismo tipo) de un diccionario.\n"
      ],
      "metadata": {
        "id": "gIbd6XOKx3IY"
      }
    },
    {
      "cell_type": "code",
      "source": [
        "def print_asc(diccionario):\n",
        "    \"\"\"\n",
        "    Función que recibe un diccionario e imprime sus valores de manera ascendente.\n",
        "\n",
        "    Args:\n",
        "        diccionario (dict): Diccionario a organizar.\n",
        "\n",
        "    \"\"\"\n",
        "    valores_ordenados = dict(sorted(diccionario.items(), key=lambda x: x[1]))\n",
        "    print(valores_ordenados)\n",
        "\n",
        "def main():\n",
        "    \"\"\"\n",
        "    Función principal del programa.\n",
        "    \"\"\"\n",
        "    diccionario = {'Colombia': 52, 'Brazil': 216, 'Argentina': 47, 'Mexico': 128}\n",
        "    print_asc(diccionario)\n",
        "\n",
        "if __name__ == \"__main__\":\n",
        "    main()"
      ],
      "metadata": {
        "id": "ssma028cDKY2",
        "colab": {
          "base_uri": "https://localhost:8080/"
        },
        "outputId": "f23cd224-2f4a-476b-ff6d-94d9bc602b06"
      },
      "execution_count": 1,
      "outputs": [
        {
          "output_type": "stream",
          "name": "stdout",
          "text": [
            "{'Argentina': 47, 'Colombia': 52, 'Mexico': 128, 'Brazil': 216}\n"
          ]
        }
      ]
    },
    {
      "cell_type": "markdown",
      "source": [
        "2. Desarrollar una función que reciba dos diccionarios como parámetros y los mezcle, es decir, que se construya un nuevo diccionario con las llaves de los dos diccionarios; si hay una clave repetida en ambos diccionarios, se debe asignar el valor que tenga la clave en el primer diccionario.\n"
      ],
      "metadata": {
        "id": "tnLLiPn4BW_9"
      }
    },
    {
      "cell_type": "code",
      "source": [
        "def mezclar_dict(diccionario1, diccionario2):\n",
        "    \"\"\"\n",
        "    Función que recibe dos diccionarios y los mezcla.\n",
        "\n",
        "    Args:\n",
        "        diccionario1 (dict): Primer diccionario.\n",
        "        diccionario2 (dict): Segundo diccionario.\n",
        "\n",
        "    Returns:\n",
        "        dict: Diccionario mezclado.\n",
        "\n",
        "    \"\"\"\n",
        "    diccionario_mezclado = diccionario1.copy()\n",
        "    diccionario_mezclado.update(diccionario2)\n",
        "    return diccionario_mezclado\n",
        "\n",
        "def main():\n",
        "    \"\"\"\n",
        "    Función principal del programa.\n",
        "    \"\"\"\n",
        "    ciudades_pob1 = {\n",
        "        \"Bogotá\": 10190000,\n",
        "        \"Medellín\": 2750000,\n",
        "        \"Cali\": 2550000,\n",
        "        \"Barranquilla\": 1950000,\n",
        "        \"Villavicencio\": 410000\n",
        "    }\n",
        "\n",
        "    ciudades_pob2 = {\n",
        "        \"Cartagena\": 950000,\n",
        "        \"Cúcuta\": 750000,\n",
        "        \"Cali\": 2540000,\n",
        "        \"Soledad\": 660000,\n",
        "        \"Bucaramanga\": 530000,\n",
        "        \"Medellín\": 2750001\n",
        "    }\n",
        "\n",
        "    diccionario_mezclado = mezclar_dict(ciudades_pob1, ciudades_pob2)\n",
        "    print(diccionario_mezclado)\n",
        "\n",
        "if __name__ == \"__main__\":\n",
        "    main()"
      ],
      "metadata": {
        "id": "nU5lwXIUDKzu",
        "colab": {
          "base_uri": "https://localhost:8080/"
        },
        "outputId": "ce27aebd-3afd-4246-bffe-08e65ea41c24"
      },
      "execution_count": 2,
      "outputs": [
        {
          "output_type": "stream",
          "name": "stdout",
          "text": [
            "{'Bogotá': 10190000, 'Medellín': 2750001, 'Cali': 2540000, 'Barranquilla': 1950000, 'Villavicencio': 410000, 'Cartagena': 950000, 'Cúcuta': 750000, 'Soledad': 660000, 'Bucaramanga': 530000}\n"
          ]
        }
      ]
    },
    {
      "cell_type": "markdown",
      "source": [
        "3. Dado el JSON:\n",
        "```JSON\n",
        "{\n",
        "\t\"jadiazcoronado\":{\n",
        "\t\t\"nombres\": \"Juan Antonio\",\n",
        "\t\t\"apellidos\": \"Díaz Coronado\",\n",
        "\t\t\"edad\":19,\n",
        "\t\t\"colombiano\":true,\n",
        "\t\t\"deportes\":[\"Fútbol\",\"Ajedrez\",\"Gimnasia\"]\n",
        "\t},\n",
        "\t\"dmlunasol\":{\n",
        "\t\t\"nombres\": \"Dorotea Maritza\",\n",
        "\t\t\"apellidos\": \"Luna Sol\",\n",
        "\t\t\"edad\":25,\n",
        "\t\t\"colombiano\":false,\n",
        "\t\t\"deportes\":[\"Baloncesto\",\"Ajedrez\",\"Gimnasia\"]\n",
        "\t}\n",
        "}\n",
        "```\n",
        " Cree un programa que lea de un archivo con dicho JSON y:\n",
        " - Imprima los nombres completos (nombre y apellidos) de las personas que practican el deporte ingresado por el usuario.\n",
        " - Imprima los nombres completos (nombre y apellidos) de las personas que estén en un rango de edades dado por el usuario."
      ],
      "metadata": {
        "id": "CXDI5EntBXG9"
      }
    },
    {
      "cell_type": "code",
      "source": [
        "import json\n",
        "\n",
        "def cargar_datos():\n",
        "    # Datos de ejemplo - en una aplicación real se leería desde un archivo\n",
        "    datos_json = '''{\n",
        "        \"jadiazcoronado\": {\n",
        "            \"nombres\": \"Juan Antonio\",\n",
        "            \"apellidos\": \"Díaz Coronado\",\n",
        "            \"edad\": 19,\n",
        "            \"colombiano\": true,\n",
        "            \"deportes\": [\"Fútbol\", \"Ajedrez\", \"Gimnasia\"]\n",
        "        },\n",
        "        \"dmlunasol\": {\n",
        "            \"nombres\": \"Dorotea Maritza\",\n",
        "            \"apellidos\": \"Luna Sol\",\n",
        "            \"edad\": 25,\n",
        "            \"colombiano\": false,\n",
        "            \"deportes\": [\"Baloncesto\", \"Ajedrez\", \"Gimnasia\"]\n",
        "        }\n",
        "    }'''\n",
        "\n",
        "    try:\n",
        "        return json.loads(datos_json)\n",
        "    except json.JSONDecodeError as e:\n",
        "        print(f\"Error al procesar el JSON: {e}\")\n",
        "        return None\n",
        "\n",
        "def buscar_por_deporte(datos, deporte):\n",
        "    \"\"\"Busca personas que practiquen un deporte específico.\"\"\"\n",
        "    resultados = []\n",
        "    for id_persona, persona in datos.items():\n",
        "        if deporte in persona[\"deportes\"]:\n",
        "            nombre_completo = f\"{persona['nombres']} {persona['apellidos']}\"\n",
        "            resultados.append(nombre_completo)\n",
        "    return resultados\n",
        "\n",
        "def buscar_por_edad(datos, edad_min, edad_max):\n",
        "    \"\"\"Busca personas dentro de un rango de edad.\"\"\"\n",
        "    resultados = []\n",
        "    for id_persona, persona in datos.items():\n",
        "        if edad_min <= persona[\"edad\"] <= edad_max:\n",
        "            nombre_completo = f\"{persona['nombres']} {persona['apellidos']}\"\n",
        "            resultados.append(nombre_completo)\n",
        "    return resultados\n",
        "\n",
        "def main():\n",
        "    \"\"\"\n",
        "    Función principal del programa.\n",
        "    \"\"\"\n",
        "\n",
        "    datos = cargar_datos()\n",
        "\n",
        "    # Buscar personas por deporte\n",
        "    deporte_busqueda = \"Ajedrez\"\n",
        "    resultados_deporte = buscar_por_deporte(datos, deporte_busqueda)\n",
        "    print(f\"\\nPersonas que practican {deporte_busqueda}:\")\n",
        "    for nombre in resultados_deporte:\n",
        "        print(f\"- {nombre}\")\n",
        "\n",
        "    edad_min = int(input(\"Ingrese la edad mínima: \"))\n",
        "    edad_max = int(input(\"Ingrese la edad máxima: \"))\n",
        "    resultados_edad = buscar_por_edad(datos, edad_min, edad_max)\n",
        "    print(f\"\\nPersonas con edades entre {edad_min} y {edad_max}:\")\n",
        "    for nombre in resultados_edad:\n",
        "        print(f\"- {nombre}\")\n",
        "\n",
        "if __name__ == \"__main__\":\n",
        "    main()"
      ],
      "metadata": {
        "id": "06f-xtmiDMKO",
        "colab": {
          "base_uri": "https://localhost:8080/"
        },
        "outputId": "fb493843-d4f6-4dd6-c73b-09667153980d"
      },
      "execution_count": 3,
      "outputs": [
        {
          "output_type": "stream",
          "name": "stdout",
          "text": [
            "\n",
            "Personas que practican Ajedrez:\n",
            "- Juan Antonio Díaz Coronado\n",
            "- Dorotea Maritza Luna Sol\n",
            "Ingrese la edad mínima: 5\n",
            "Ingrese la edad máxima: 20\n",
            "\n",
            "Personas con edades entre 5 y 20:\n",
            "- Juan Antonio Díaz Coronado\n"
          ]
        }
      ]
    },
    {
      "cell_type": "markdown",
      "source": [
        "4. El siguiente código contiene un JSON con el pronostivo detallado del clima para 8 días:\n",
        "\n",
        "```python\n",
        "import json\n",
        "\n",
        "# Cargar archivo\n",
        "jsonString = '''\n",
        "{\\\"dt\\\": {\\\"0\\\": 1685116800, \\\"1\\\": 1685203200, \\\"2\\\": 1685289600, \\\"3\\\": 1685376000, \\\"4\\\": 1685462400, \\\"5\\\": 1685548800, \\\"6\\\": 1685635200, \\\"7\\\": 1685721600}, \\\"sunrise\\\": {\\\"0\\\": 1685097348, \\\"1\\\": 1685183745, \\\"2\\\": 1685270143, \\\"3\\\": 1685356542, \\\"4\\\": 1685442942, \\\"5\\\": 1685529342, \\\"6\\\": 1685615743, \\\"7\\\": 1685702145}, \\\"sunset\\\": {\\\"0\\\": 1685143042, \\\"1\\\": 1685229458, \\\"2\\\": 1685315875, \\\"3\\\": 1685402291, \\\"4\\\": 1685488708, \\\"5\\\": 1685575124, \\\"6\\\": 1685661541, \\\"7\\\": 1685747958}, \\\"moonrise\\\": {\\\"0\\\": 1685118300, \\\"1\\\": 1685207460, \\\"2\\\": 1685296620, \\\"3\\\": 1685385720, \\\"4\\\": 1685474880, \\\"5\\\": 1685564220, \\\"6\\\": 1685653740, \\\"7\\\": 1685743500}, \\\"moonset\\\": {\\\"0\\\": 0, \\\"1\\\": 1685164320, \\\"2\\\": 1685253000, \\\"3\\\": 1685341560, \\\"4\\\": 1685430120, \\\"5\\\": 1685518740, \\\"6\\\": 1685607600, \\\"7\\\": 1685696640}, \\\"moon_phase\\\": {\\\"0\\\": 0.22, \\\"1\\\": 0.25, \\\"2\\\": 0.28, \\\"3\\\": 0.31, \\\"4\\\": 0.35, \\\"5\\\": 0.38, \\\"6\\\": 0.41, \\\"7\\\": 0.45}, \\\"pressure\\\": {\\\"0\\\": 1011, \\\"1\\\": 1012, \\\"2\\\": 1012, \\\"3\\\": 1012, \\\"4\\\": 1012, \\\"5\\\": 1012, \\\"6\\\": 1012, \\\"7\\\": 1011}, \\\"humidity\\\": {\\\"0\\\": 85, \\\"1\\\": 61, \\\"2\\\": 68, \\\"3\\\": 74, \\\"4\\\": 84, \\\"5\\\": 66, \\\"6\\\": 81, \\\"7\\\": 82}, \\\"dew_point\\\": {\\\"0\\\": 23.93, \\\"1\\\": 22.5, \\\"2\\\": 23.67, \\\"3\\\": 23.35, \\\"4\\\": 24.22, \\\"5\\\": 22.73, \\\"6\\\": 23.18, \\\"7\\\": 22.93}, \\\"velViento\\\": {\\\"0\\\": 3.56, \\\"1\\\": 5.07, \\\"2\\\": 5.38, \\\"3\\\": 3.95, \\\"4\\\": 4.74, \\\"5\\\": 3.75, \\\"6\\\": 4.08, \\\"7\\\": 5.94}, \\\"dirViento\\\": {\\\"0\\\": 188, \\\"1\\\": 14, \\\"2\\\": 21, \\\"3\\\": 23, \\\"4\\\": 40, \\\"5\\\": 330, \\\"6\\\": 176, \\\"7\\\": 168}, \\\"wind_gust\\\": {\\\"0\\\": 6.47, \\\"1\\\": 8.86, \\\"2\\\": 8.95, \\\"3\\\": 6.12, \\\"4\\\": 7.17, \\\"5\\\": 5.4, \\\"6\\\": 5.13, \\\"7\\\": 9.67}, \\\"weather\\\": {\\\"0\\\": [{\\\"id\\\": 501, \\\"main\\\": \\\"Rain\\\", \\\"description\\\": \\\"lluvia moderada\\\", \\\"icon\\\": \\\"10d\\\"}], \\\"1\\\": [{\\\"id\\\": 500, \\\"main\\\": \\\"Rain\\\", \\\"description\\\": \\\"lluvia ligera\\\", \\\"icon\\\": \\\"10d\\\"}], \\\"2\\\": [{\\\"id\\\": 501, \\\"main\\\": \\\"Rain\\\", \\\"description\\\": \\\"lluvia moderada\\\", \\\"icon\\\": \\\"10d\\\"}], \\\"3\\\": [{\\\"id\\\": 500, \\\"main\\\": \\\"Rain\\\", \\\"description\\\": \\\"lluvia ligera\\\", \\\"icon\\\": \\\"10d\\\"}], \\\"4\\\": [{\\\"id\\\": 501, \\\"main\\\": \\\"Rain\\\", \\\"description\\\": \\\"lluvia moderada\\\", \\\"icon\\\": \\\"10d\\\"}], \\\"5\\\": [{\\\"id\\\": 500, \\\"main\\\": \\\"Rain\\\", \\\"description\\\": \\\"lluvia ligera\\\", \\\"icon\\\": \\\"10d\\\"}], \\\"6\\\": [{\\\"id\\\": 500, \\\"main\\\": \\\"Rain\\\", \\\"description\\\": \\\"lluvia ligera\\\", \\\"icon\\\": \\\"10d\\\"}], \\\"7\\\": [{\\\"id\\\": 500, \\\"main\\\": \\\"Rain\\\", \\\"description\\\": \\\"lluvia ligera\\\", \\\"icon\\\": \\\"10d\\\"}]}, \\\"clouds\\\": {\\\"0\\\": 100, \\\"1\\\": 82, \\\"2\\\": 99, \\\"3\\\": 100, \\\"4\\\": 100, \\\"5\\\": 59, \\\"6\\\": 100, \\\"7\\\": 100}, \\\"pop\\\": {\\\"0\\\": 1.0, \\\"1\\\": 0.65, \\\"2\\\": 0.98, \\\"3\\\": 0.86, \\\"4\\\": 1.0, \\\"5\\\": 0.62, \\\"6\\\": 0.93, \\\"7\\\": 0.95}, \\\"prcp\\\": {\\\"0\\\": 40.0, \\\"1\\\": 1.65, \\\"2\\\": 14.01, \\\"3\\\": 5.07, \\\"4\\\": 16.55, \\\"5\\\": 2.17, \\\"6\\\": 2.77, \\\"7\\\": 1.73}, \\\"uvi\\\": {\\\"0\\\": 10.14, \\\"1\\\": 12.78, \\\"2\\\": 12.73, \\\"3\\\": 8.44, \\\"4\\\": 0.59, \\\"5\\\": 1.0, \\\"6\\\": 1.0, \\\"7\\\": 1.0}, \\\"temp.day\\\": {\\\"0\\\": 26.62, \\\"1\\\": 30.95, \\\"2\\\": 30.17, \\\"3\\\": 28.37, \\\"4\\\": 27.22, \\\"5\\\": 29.78, \\\"6\\\": 26.83, \\\"7\\\": 26.36}, \\\"tmpMin\\\": {\\\"0\\\": 25.64, \\\"1\\\": 24.64, \\\"2\\\": 25.84, \\\"3\\\": 25.56, \\\"4\\\": 25.72, \\\"5\\\": 24.86, \\\"6\\\": 25.96, \\\"7\\\": 25.47}, \\\"tmpMax\\\": {\\\"0\\\": 27.16, \\\"1\\\": 31.1, \\\"2\\\": 30.2, \\\"3\\\": 29.5, \\\"4\\\": 28.87, \\\"5\\\": 29.78, \\\"6\\\": 28.96, \\\"7\\\": 28.25}, \\\"temp.night\\\": {\\\"0\\\": 25.67, \\\"1\\\": 27.39, \\\"2\\\": 26.24, \\\"3\\\": 27.2, \\\"4\\\": 25.92, \\\"5\\\": 27.14, \\\"6\\\": 26.56, \\\"7\\\": 25.66}, \\\"temp.eve\\\": {\\\"0\\\": 25.91, \\\"1\\\": 28.73, \\\"2\\\": 27.42, \\\"3\\\": 28.27, \\\"4\\\": 27.94, \\\"5\\\": 29.29, \\\"6\\\": 28.96, \\\"7\\\": 28.12}, \\\"temp.morn\\\": {\\\"0\\\": 26.5, \\\"1\\\": 24.64, \\\"2\\\": 26.13, \\\"3\\\": 25.72, \\\"4\\\": 26.04, \\\"5\\\": 24.86, \\\"6\\\": 25.98, \\\"7\\\": 25.57}, \\\"feels_like.day\\\": {\\\"0\\\": 26.62, \\\"1\\\": 34.99, \\\"2\\\": 34.96, \\\"3\\\": 32.03, \\\"4\\\": 30.67, \\\"5\\\": 33.62, \\\"6\\\": 29.45, \\\"7\\\": 26.36}, \\\"feels_like.night\\\": {\\\"0\\\": 26.56, \\\"1\\\": 30.98, \\\"2\\\": 26.24, \\\"3\\\": 30.62, \\\"4\\\": 26.84, \\\"5\\\": 30.16, \\\"6\\\": 26.56, \\\"7\\\": 26.45}, \\\"feels_like.eve\\\": {\\\"0\\\": 26.85, \\\"1\\\": 32.49, \\\"2\\\": 30.94, \\\"3\\\": 31.8, \\\"4\\\": 31.51, \\\"5\\\": 33.17, \\\"6\\\": 32.64, \\\"7\\\": 31.18}, \\\"feels_like.morn\\\": {\\\"0\\\": 26.5, \\\"1\\\": 25.48, \\\"2\\\": 26.13, \\\"3\\\": 26.62, \\\"4\\\": 26.04, \\\"5\\\": 25.73, \\\"6\\\": 25.98, \\\"7\\\": 26.4}, \\\"date\\\": {\\\"0\\\": 1685098800000, \\\"1\\\": 1685185200000, \\\"2\\\": 1685271600000, \\\"3\\\": 1685358000000, \\\"4\\\": 1685444400000, \\\"5\\\": 1685530800000, \\\"6\\\": 1685617200000, \\\"7\\\": 1685703600000}, \\\"main\\\": {\\\"0\\\": \\\"Rain\\\", \\\"1\\\": \\\"Rain\\\", \\\"2\\\": \\\"Rain\\\", \\\"3\\\": \\\"Rain\\\", \\\"4\\\": \\\"Rain\\\", \\\"5\\\": \\\"Rain\\\", \\\"6\\\": \\\"Rain\\\", \\\"7\\\": \\\"Rain\\\"}, \\\"description\\\": {\\\"0\\\": \\\"lluvia moderada\\\", \\\"1\\\": \\\"lluvia ligera\\\", \\\"2\\\": \\\"lluvia moderada\\\", \\\"3\\\": \\\"lluvia ligera\\\", \\\"4\\\": \\\"lluvia moderada\\\", \\\"5\\\": \\\"lluvia ligera\\\", \\\"6\\\": \\\"lluvia ligera\\\", \\\"7\\\": \\\"lluvia ligera\\\"}, \\\"icono\\\": {\\\"0\\\": \\\"10d\\\", \\\"1\\\": \\\"10d\\\", \\\"2\\\": \\\"10d\\\", \\\"3\\\": \\\"10d\\\", \\\"4\\\": \\\"10d\\\", \\\"5\\\": \\\"10d\\\", \\\"6\\\": \\\"10d\\\", \\\"7\\\": \\\"10d\\\"}, \\\"alertPrecip\\\": {\\\"0\\\": \\\"X\\\", \\\"1\\\": \\\"-\\\", \\\"2\\\": \\\"-\\\", \\\"3\\\": \\\"-\\\", \\\"4\\\": \\\"-\\\", \\\"5\\\": \\\"-\\\", \\\"6\\\": \\\"-\\\", \\\"7\\\": \\\"-\\\"}, \\\"alertAlertas\\\": {\\\"0\\\": \\\"-\\\", \\\"1\\\": \\\"-\\\", \\\"2\\\": \\\"-\\\", \\\"3\\\": \\\"-\\\", \\\"4\\\": \\\"-\\\", \\\"5\\\": \\\"-\\\", \\\"6\\\": \\\"-\\\", \\\"7\\\": \\\"-\\\"}, \\\"alertVelViento\\\": {\\\"0\\\": \\\"-\\\", \\\"1\\\": \\\"-\\\", \\\"2\\\": \\\"X\\\", \\\"3\\\": \\\"-\\\", \\\"4\\\": \\\"-\\\", \\\"5\\\": \\\"-\\\", \\\"6\\\": \\\"-\\\", \\\"7\\\": \\\"-\\\"}, \\\"alertTmpMax\\\": {\\\"0\\\": \\\"-\\\", \\\"1\\\": \\\"-\\\", \\\"2\\\": \\\"-\\\", \\\"3\\\": \\\"-\\\", \\\"4\\\": \\\"-\\\", \\\"5\\\": \\\"X\\\", \\\"6\\\": \\\"-\\\", \\\"7\\\": \\\"-\\\"}, \\\"alertTmpMin\\\": {\\\"0\\\": \\\"-\\\", \\\"1\\\": \\\"X\\\", \\\"2\\\": \\\"-\\\", \\\"3\\\": \\\"-\\\", \\\"4\\\": \\\"-\\\", \\\"5\\\": \\\"-\\\", \\\"6\\\": \\\"-\\\", \\\"7\\\": \\\"-\\\"}, \\\"recomendaciones\\\": {\\\"lluvias\\\": \\\"Realice una revisi\\\\u00f3n y limpieza a la red de desague y canales existentes ENTER8 Cuente con una estaci\\\\u00f3n de bombeo, que debe estar ubicada en el punto m\\\\u00e1s bajo del predio. Aseg\\\\u00farese de encender y probar el sistema de bombeo al menos una vez al mes y hacer un mantenimiento mensual al equipo de bombeoENTER8 Los productos alojados en zonas de almacenamiento deben mantenersen sobre estibas - estanterias, con el fin de que no entren en contacto directo con el agua.\\\", \\\"vientos\\\": \\\"-\\\", \\\"temperatura\\\": \\\"-\\\"}}\n",
        "'''\n",
        "data = json.loads(jsonString)\n",
        "```\n",
        "\n",
        "Revise los campos: 'alertAlertas', 'alertPrecip', 'alertTmpMax', 'alertTmpMin', 'alertVelViento'. Para cada uno identifique si se presentan alertas ({0: x} indica que el día 0 habra un fenomeno de la alerta en cuestión, {1:\"-\"} indica que no habrá ningun fenomeno climatico). En caso que se presente una alerta obtenga la fecha del campo 'dt' ([aquí](https://stackoverflow.com/questions/3682748/converting-unix-timestamp-string-to-readable-date) pueden revisar como se convierte de UTC a fecha), así como los parametros relevantes del evento (e.g. si es un fenomeno de lluvias, busqye el nivel de lluvia, si es vientos, la velocidad del viuento). Al final deberá imprimir las fechas de alerta, el tipo de alerta y las variables asociadas.\n"
      ],
      "metadata": {
        "id": "FJ5kYAQ2BXMG"
      }
    },
    {
      "cell_type": "code",
      "source": [
        "import json\n",
        "\n",
        "# Cargar archivo\n",
        "jsonString = '''\n",
        "{\\\"dt\\\": {\\\"0\\\": 1685116800, \\\"1\\\": 1685203200, \\\"2\\\": 1685289600, \\\"3\\\": 1685376000, \\\"4\\\": 1685462400, \\\"5\\\": 1685548800, \\\"6\\\": 1685635200, \\\"7\\\": 1685721600}, \\\"sunrise\\\": {\\\"0\\\": 1685097348, \\\"1\\\": 1685183745, \\\"2\\\": 1685270143, \\\"3\\\": 1685356542, \\\"4\\\": 1685442942, \\\"5\\\": 1685529342, \\\"6\\\": 1685615743, \\\"7\\\": 1685702145}, \\\"sunset\\\": {\\\"0\\\": 1685143042, \\\"1\\\": 1685229458, \\\"2\\\": 1685315875, \\\"3\\\": 1685402291, \\\"4\\\": 1685488708, \\\"5\\\": 1685575124, \\\"6\\\": 1685661541, \\\"7\\\": 1685747958}, \\\"moonrise\\\": {\\\"0\\\": 1685118300, \\\"1\\\": 1685207460, \\\"2\\\": 1685296620, \\\"3\\\": 1685385720, \\\"4\\\": 1685474880, \\\"5\\\": 1685564220, \\\"6\\\": 1685653740, \\\"7\\\": 1685743500}, \\\"moonset\\\": {\\\"0\\\": 0, \\\"1\\\": 1685164320, \\\"2\\\": 1685253000, \\\"3\\\": 1685341560, \\\"4\\\": 1685430120, \\\"5\\\": 1685518740, \\\"6\\\": 1685607600, \\\"7\\\": 1685696640}, \\\"moon_phase\\\": {\\\"0\\\": 0.22, \\\"1\\\": 0.25, \\\"2\\\": 0.28, \\\"3\\\": 0.31, \\\"4\\\": 0.35, \\\"5\\\": 0.38, \\\"6\\\": 0.41, \\\"7\\\": 0.45}, \\\"pressure\\\": {\\\"0\\\": 1011, \\\"1\\\": 1012, \\\"2\\\": 1012, \\\"3\\\": 1012, \\\"4\\\": 1012, \\\"5\\\": 1012, \\\"6\\\": 1012, \\\"7\\\": 1011}, \\\"humidity\\\": {\\\"0\\\": 85, \\\"1\\\": 61, \\\"2\\\": 68, \\\"3\\\": 74, \\\"4\\\": 84, \\\"5\\\": 66, \\\"6\\\": 81, \\\"7\\\": 82}, \\\"dew_point\\\": {\\\"0\\\": 23.93, \\\"1\\\": 22.5, \\\"2\\\": 23.67, \\\"3\\\": 23.35, \\\"4\\\": 24.22, \\\"5\\\": 22.73, \\\"6\\\": 23.18, \\\"7\\\": 22.93}, \\\"velViento\\\": {\\\"0\\\": 3.56, \\\"1\\\": 5.07, \\\"2\\\": 5.38, \\\"3\\\": 3.95, \\\"4\\\": 4.74, \\\"5\\\": 3.75, \\\"6\\\": 4.08, \\\"7\\\": 5.94}, \\\"dirViento\\\": {\\\"0\\\": 188, \\\"1\\\": 14, \\\"2\\\": 21, \\\"3\\\": 23, \\\"4\\\": 40, \\\"5\\\": 330, \\\"6\\\": 176, \\\"7\\\": 168}, \\\"wind_gust\\\": {\\\"0\\\": 6.47, \\\"1\\\": 8.86, \\\"2\\\": 8.95, \\\"3\\\": 6.12, \\\"4\\\": 7.17, \\\"5\\\": 5.4, \\\"6\\\": 5.13, \\\"7\\\": 9.67}, \\\"weather\\\": {\\\"0\\\": [{\\\"id\\\": 501, \\\"main\\\": \\\"Rain\\\", \\\"description\\\": \\\"lluvia moderada\\\", \\\"icon\\\": \\\"10d\\\"}], \\\"1\\\": [{\\\"id\\\": 500, \\\"main\\\": \\\"Rain\\\", \\\"description\\\": \\\"lluvia ligera\\\", \\\"icon\\\": \\\"10d\\\"}], \\\"2\\\": [{\\\"id\\\": 501, \\\"main\\\": \\\"Rain\\\", \\\"description\\\": \\\"lluvia moderada\\\", \\\"icon\\\": \\\"10d\\\"}], \\\"3\\\": [{\\\"id\\\": 500, \\\"main\\\": \\\"Rain\\\", \\\"description\\\": \\\"lluvia ligera\\\", \\\"icon\\\": \\\"10d\\\"}], \\\"4\\\": [{\\\"id\\\": 501, \\\"main\\\": \\\"Rain\\\", \\\"description\\\": \\\"lluvia moderada\\\", \\\"icon\\\": \\\"10d\\\"}], \\\"5\\\": [{\\\"id\\\": 500, \\\"main\\\": \\\"Rain\\\", \\\"description\\\": \\\"lluvia ligera\\\", \\\"icon\\\": \\\"10d\\\"}], \\\"6\\\": [{\\\"id\\\": 500, \\\"main\\\": \\\"Rain\\\", \\\"description\\\": \\\"lluvia ligera\\\", \\\"icon\\\": \\\"10d\\\"}], \\\"7\\\": [{\\\"id\\\": 500, \\\"main\\\": \\\"Rain\\\", \\\"description\\\": \\\"lluvia ligera\\\", \\\"icon\\\": \\\"10d\\\"}]}, \\\"clouds\\\": {\\\"0\\\": 100, \\\"1\\\": 82, \\\"2\\\": 99, \\\"3\\\": 100, \\\"4\\\": 100, \\\"5\\\": 59, \\\"6\\\": 100, \\\"7\\\": 100}, \\\"pop\\\": {\\\"0\\\": 1.0, \\\"1\\\": 0.65, \\\"2\\\": 0.98, \\\"3\\\": 0.86, \\\"4\\\": 1.0, \\\"5\\\": 0.62, \\\"6\\\": 0.93, \\\"7\\\": 0.95}, \\\"prcp\\\": {\\\"0\\\": 40.0, \\\"1\\\": 1.65, \\\"2\\\": 14.01, \\\"3\\\": 5.07, \\\"4\\\": 16.55, \\\"5\\\": 2.17, \\\"6\\\": 2.77, \\\"7\\\": 1.73}, \\\"uvi\\\": {\\\"0\\\": 10.14, \\\"1\\\": 12.78, \\\"2\\\": 12.73, \\\"3\\\": 8.44, \\\"4\\\": 0.59, \\\"5\\\": 1.0, \\\"6\\\": 1.0, \\\"7\\\": 1.0}, \\\"temp.day\\\": {\\\"0\\\": 26.62, \\\"1\\\": 30.95, \\\"2\\\": 30.17, \\\"3\\\": 28.37, \\\"4\\\": 27.22, \\\"5\\\": 29.78, \\\"6\\\": 26.83, \\\"7\\\": 26.36}, \\\"tmpMin\\\": {\\\"0\\\": 25.64, \\\"1\\\": 24.64, \\\"2\\\": 25.84, \\\"3\\\": 25.56, \\\"4\\\": 25.72, \\\"5\\\": 24.86, \\\"6\\\": 25.96, \\\"7\\\": 25.47}, \\\"tmpMax\\\": {\\\"0\\\": 27.16, \\\"1\\\": 31.1, \\\"2\\\": 30.2, \\\"3\\\": 29.5, \\\"4\\\": 28.87, \\\"5\\\": 29.78, \\\"6\\\": 28.96, \\\"7\\\": 28.25}, \\\"temp.night\\\": {\\\"0\\\": 25.67, \\\"1\\\": 27.39, \\\"2\\\": 26.24, \\\"3\\\": 27.2, \\\"4\\\": 25.92, \\\"5\\\": 27.14, \\\"6\\\": 26.56, \\\"7\\\": 25.66}, \\\"temp.eve\\\": {\\\"0\\\": 25.91, \\\"1\\\": 28.73, \\\"2\\\": 27.42, \\\"3\\\": 28.27, \\\"4\\\": 27.94, \\\"5\\\": 29.29, \\\"6\\\": 28.96, \\\"7\\\": 28.12}, \\\"temp.morn\\\": {\\\"0\\\": 26.5, \\\"1\\\": 24.64, \\\"2\\\": 26.13, \\\"3\\\": 25.72, \\\"4\\\": 26.04, \\\"5\\\": 24.86, \\\"6\\\": 25.98, \\\"7\\\": 25.57}, \\\"feels_like.day\\\": {\\\"0\\\": 26.62, \\\"1\\\": 34.99, \\\"2\\\": 34.96, \\\"3\\\": 32.03, \\\"4\\\": 30.67, \\\"5\\\": 33.62, \\\"6\\\": 29.45, \\\"7\\\": 26.36}, \\\"feels_like.night\\\": {\\\"0\\\": 26.56, \\\"1\\\": 30.98, \\\"2\\\": 26.24, \\\"3\\\": 30.62, \\\"4\\\": 26.84, \\\"5\\\": 30.16, \\\"6\\\": 26.56, \\\"7\\\": 26.45}, \\\"feels_like.eve\\\": {\\\"0\\\": 26.85, \\\"1\\\": 32.49, \\\"2\\\": 30.94, \\\"3\\\": 31.8, \\\"4\\\": 31.51, \\\"5\\\": 33.17, \\\"6\\\": 32.64, \\\"7\\\": 31.18}, \\\"feels_like.morn\\\": {\\\"0\\\": 26.5, \\\"1\\\": 25.48, \\\"2\\\": 26.13, \\\"3\\\": 26.62, \\\"4\\\": 26.04, \\\"5\\\": 25.73, \\\"6\\\": 25.98, \\\"7\\\": 26.4}, \\\"date\\\": {\\\"0\\\": 1685098800000, \\\"1\\\": 1685185200000, \\\"2\\\": 1685271600000, \\\"3\\\": 1685358000000, \\\"4\\\": 1685444400000, \\\"5\\\": 1685530800000, \\\"6\\\": 1685617200000, \\\"7\\\": 1685703600000}, \\\"main\\\": {\\\"0\\\": \\\"Rain\\\", \\\"1\\\": \\\"Rain\\\", \\\"2\\\": \\\"Rain\\\", \\\"3\\\": \\\"Rain\\\", \\\"4\\\": \\\"Rain\\\", \\\"5\\\": \\\"Rain\\\", \\\"6\\\": \\\"Rain\\\", \\\"7\\\": \\\"Rain\\\"}, \\\"description\\\": {\\\"0\\\": \\\"lluvia moderada\\\", \\\"1\\\": \\\"lluvia ligera\\\", \\\"2\\\": \\\"lluvia moderada\\\", \\\"3\\\": \\\"lluvia ligera\\\", \\\"4\\\": \\\"lluvia moderada\\\", \\\"5\\\": \\\"lluvia ligera\\\", \\\"6\\\": \\\"lluvia ligera\\\", \\\"7\\\": \\\"lluvia ligera\\\"}, \\\"icono\\\": {\\\"0\\\": \\\"10d\\\", \\\"1\\\": \\\"10d\\\", \\\"2\\\": \\\"10d\\\", \\\"3\\\": \\\"10d\\\", \\\"4\\\": \\\"10d\\\", \\\"5\\\": \\\"10d\\\", \\\"6\\\": \\\"10d\\\", \\\"7\\\": \\\"10d\\\"}, \\\"alertPrecip\\\": {\\\"0\\\": \\\"X\\\", \\\"1\\\": \\\"-\\\", \\\"2\\\": \\\"-\\\", \\\"3\\\": \\\"-\\\", \\\"4\\\": \\\"-\\\", \\\"5\\\": \\\"-\\\", \\\"6\\\": \\\"-\\\", \\\"7\\\": \\\"-\\\"}, \\\"alertAlertas\\\": {\\\"0\\\": \\\"-\\\", \\\"1\\\": \\\"-\\\", \\\"2\\\": \\\"-\\\", \\\"3\\\": \\\"-\\\", \\\"4\\\": \\\"-\\\", \\\"5\\\": \\\"-\\\", \\\"6\\\": \\\"-\\\", \\\"7\\\": \\\"-\\\"}, \\\"alertVelViento\\\": {\\\"0\\\": \\\"-\\\", \\\"1\\\": \\\"-\\\", \\\"2\\\": \\\"X\\\", \\\"3\\\": \\\"-\\\", \\\"4\\\": \\\"-\\\", \\\"5\\\": \\\"-\\\", \\\"6\\\": \\\"-\\\", \\\"7\\\": \\\"-\\\"}, \\\"alertTmpMax\\\": {\\\"0\\\": \\\"-\\\", \\\"1\\\": \\\"-\\\", \\\"2\\\": \\\"-\\\", \\\"3\\\": \\\"-\\\", \\\"4\\\": \\\"-\\\", \\\"5\\\": \\\"X\\\", \\\"6\\\": \\\"-\\\", \\\"7\\\": \\\"-\\\"}, \\\"alertTmpMin\\\": {\\\"0\\\": \\\"-\\\", \\\"1\\\": \\\"X\\\", \\\"2\\\": \\\"-\\\", \\\"3\\\": \\\"-\\\", \\\"4\\\": \\\"-\\\", \\\"5\\\": \\\"-\\\", \\\"6\\\": \\\"-\\\", \\\"7\\\": \\\"-\\\"}, \\\"recomendaciones\\\": {\\\"lluvias\\\": \\\"Realice una revisi\\\\u00f3n y limpieza a la red de desague y canales existentes ENTER8 Cuente con una estaci\\\\u00f3n de bombeo, que debe estar ubicada en el punto m\\\\u00e1s bajo del predio. Aseg\\\\u00farese de encender y probar el sistema de bombeo al menos una vez al mes y hacer un mantenimiento mensual al equipo de bombeoENTER8 Los productos alojados en zonas de almacenamiento deben mantenersen sobre estibas - estanterias, con el fin de que no entren en contacto directo con el agua.\\\", \\\"vientos\\\": \\\"-\\\", \\\"temperatura\\\": \\\"-\\\"}}\n",
        "'''\n",
        "data = json.loads(jsonString)"
      ],
      "metadata": {
        "id": "vlu-2aZwDM7e"
      },
      "execution_count": 4,
      "outputs": []
    },
    {
      "cell_type": "code",
      "source": [
        "from datetime import datetime\n",
        "\n",
        "#Imprimir los valores del diccionario data['alertPrecip']\n",
        "for key,value in data['alertPrecip'].items():\n",
        "    if value == 'X': #Buscar alertas\n",
        "        t = data['dt'][str(key)] #Guardar la fecha de alerta\n",
        "        #Imprimir las fechas de alerta, el tipo de alerta y las variables asociadas.\n",
        "        print(f\"Alerta de precipitación el {datetime.utcfromtimestamp(t).strftime('%Y-%m-%d %H:%M:%S')}\")\n",
        "        print(f\"Nubosidad: {data['clouds'][str(key)]}\")\n",
        "        print(f\"Precipitación: {data['prcp'][str(key)]}\")"
      ],
      "metadata": {
        "colab": {
          "base_uri": "https://localhost:8080/"
        },
        "id": "rODmi1yvox6x",
        "outputId": "d2d457e1-819d-447e-cf9f-f4c7335f51cb"
      },
      "execution_count": 5,
      "outputs": [
        {
          "output_type": "stream",
          "name": "stdout",
          "text": [
            "Alerta de precipitación el 2023-05-26 16:00:00\n",
            "Nubosidad: 100\n",
            "Precipitación: 40.0\n"
          ]
        }
      ]
    },
    {
      "cell_type": "code",
      "source": [
        "#Imprimir los valores del diccionario data['alertTmpMax']\n",
        "for key,value in data['alertTmpMax'].items():\n",
        "    if value == 'X': #Buscar alertas\n",
        "        t = data['dt'][str(key)] #Guardar la fecha de alerta\n",
        "        #Imprimir las fechas de alerta, el tipo de alerta y las variables asociadas.\n",
        "        print(f\"Alerta de temperatura máxima el {datetime.utcfromtimestamp(t).strftime('%Y-%m-%d %H:%M:%S')}\")\n",
        "        print(f\"Temperatura máxima: {data['tmpMax'][str(key)]}\")\n",
        "        print(f\"Temperatura mañana: {data['temp.morn'][str(key)]}\")\n",
        "        print(f\"Temperatura tarde: {data['temp.eve'][str(key)]}\")\n",
        "        print(f\"Temperatura noche: {data['temp.night'][str(key)]}\")"
      ],
      "metadata": {
        "colab": {
          "base_uri": "https://localhost:8080/"
        },
        "id": "26oAflZBrQwC",
        "outputId": "967c7209-ac3a-4cc3-97a7-7a40ccf0f8f7"
      },
      "execution_count": 6,
      "outputs": [
        {
          "output_type": "stream",
          "name": "stdout",
          "text": [
            "Alerta de temperatura máxima el 2023-05-31 16:00:00\n",
            "Temperatura máxima: 29.78\n",
            "Temperatura mañana: 24.86\n",
            "Temperatura tarde: 29.29\n",
            "Temperatura noche: 27.14\n"
          ]
        }
      ]
    },
    {
      "cell_type": "code",
      "source": [
        "#Imprimir los valores del diccionario data['alertTmpMin']\n",
        "for key,value in data['alertTmpMin'].items():\n",
        "    if value == 'X': #Buscar alertas\n",
        "        t = data['dt'][str(key)] #Guardar la fecha de alerta\n",
        "        #Imprimir las fechas de alerta, el tipo de alerta y las variables asociadas.\n",
        "        print(f\"Alerta de temperatura mínima el {datetime.utcfromtimestamp(t).strftime('%Y-%m-%d %H:%M:%S')}\")\n",
        "        print(f\"Temperatura mínima: {data['tmpMin'][str(key)]}\")\n",
        "        print(f\"Temperatura mañana: {data['temp.morn'][str(key)]}\")\n",
        "        print(f\"Temperatura tarde: {data['temp.eve'][str(key)]}\")\n",
        "        print(f\"Temperatura noche: {data['temp.night'][str(key)]}\")"
      ],
      "metadata": {
        "colab": {
          "base_uri": "https://localhost:8080/"
        },
        "id": "_x3st4rlqdpr",
        "outputId": "5f3cacc2-42e9-4026-8e30-6c0d85201f00"
      },
      "execution_count": 7,
      "outputs": [
        {
          "output_type": "stream",
          "name": "stdout",
          "text": [
            "Alerta de temperatura mínima el 2023-05-27 16:00:00\n",
            "Temperatura mínima: 24.64\n",
            "Temperatura mañana: 24.64\n",
            "Temperatura tarde: 28.73\n",
            "Temperatura noche: 27.39\n"
          ]
        }
      ]
    },
    {
      "cell_type": "code",
      "source": [
        "#Imprimir los valores del diccionario data['alertVelViento']\n",
        "for key,value in data['alertVelViento'].items():\n",
        "    if value == 'X': #Buscar alertas\n",
        "        t = data['dt'][str(key)] #Guardar la fecha de alerta\n",
        "        #Imprimir las fechas de alerta, el tipo\n",
        "        print(f\"Alerta de viento el {datetime.utcfromtimestamp(t).strftime('%Y-%m-%d %H:%M:%S')}\")\n",
        "        print(f\"Velocidad del viento: {data['velViento'][str(key)]}\")\n",
        "        print(f\"Dirección del viento: {data['dirViento'][str(key)]}\")"
      ],
      "metadata": {
        "colab": {
          "base_uri": "https://localhost:8080/"
        },
        "id": "kIJJrviusNfj",
        "outputId": "e317a3c0-8803-4462-faba-ad232158eeb8"
      },
      "execution_count": 8,
      "outputs": [
        {
          "output_type": "stream",
          "name": "stdout",
          "text": [
            "Alerta de viento el 2023-05-28 16:00:00\n",
            "Velocidad del viento: 5.38\n",
            "Dirección del viento: 21\n"
          ]
        }
      ]
    },
    {
      "cell_type": "markdown",
      "source": [
        "5. A través de un programa conectese a al menos 3 [API's ](https://apipheny.io/free-api/), obtenga el JSON, imprimalo y extraiga los pares de llave : valor."
      ],
      "metadata": {
        "id": "wwUKl5LDBrT_"
      }
    },
    {
      "cell_type": "code",
      "source": [
        "import json\n",
        "import requests\n",
        "\n",
        "def peticionJSON(url):\n",
        "    print(url)\n",
        "    peticion = requests.get(url)\n",
        "    #print(peticion.status_code)\n",
        "    return json.loads(peticion.content)\n",
        "\n",
        "if __name__ == \"__main__\":\n",
        "    # Hacer múltiples peticiones hasta encontrar un chiste de programación\n",
        "    while True:\n",
        "        joke = peticionJSON('https://official-joke-api.appspot.com/random_joke')\n",
        "        if joke['type'] == 'programming':\n",
        "            for key, value in joke.items():\n",
        "                print(f\"{key}: {value}\")\n",
        "            break\n",
        "\n",
        "    nationality = peticionJSON('https://api.agify.io?name=felipe')\n",
        "    for key, value in nationality.items():\n",
        "        print(f\"{key}: {value}\")"
      ],
      "metadata": {
        "colab": {
          "base_uri": "https://localhost:8080/"
        },
        "id": "qj-EcyEouB2i",
        "outputId": "3d2f769c-3291-43c0-9731-4f197818e0e2"
      },
      "execution_count": 7,
      "outputs": [
        {
          "output_type": "stream",
          "name": "stdout",
          "text": [
            "https://official-joke-api.appspot.com/random_joke\n",
            "https://official-joke-api.appspot.com/random_joke\n",
            "https://official-joke-api.appspot.com/random_joke\n",
            "https://official-joke-api.appspot.com/random_joke\n",
            "https://official-joke-api.appspot.com/random_joke\n",
            "type: programming\n",
            "setup: Why did the designer break up with their font?\n",
            "punchline: Because it wasn't their type.\n",
            "id: 436\n",
            "https://api.agify.io?name=felipe\n",
            "count: 19844\n",
            "name: felipe\n",
            "age: 56\n"
          ]
        }
      ]
    },
    {
      "cell_type": "code",
      "source": [
        "import matplotlib.pyplot as plt\n",
        "\n",
        "# Hacer una petición a la API\n",
        "nationality = peticionJSON('https://api.nationalize.io/?name=angel')\n",
        "for key, value in nationality.items():\n",
        "    print(f\"{key}: {value}\")\n",
        "\n",
        "# Extraer datos para el gráfico\n",
        "paises = [pais['country_id'] for pais in nationality['country']]\n",
        "probabilidades = [pais['probability'] for pais in nationality['country']]\n",
        "\n",
        "# Crear el gráfico\n",
        "plt.figure(figsize=(10, 8))\n",
        "plt.pie(probabilidades,\n",
        "        labels=paises,\n",
        "        autopct='%1.1f%%',\n",
        "        startangle=90)\n",
        "plt.title('Probabilidades de Nacionalidad para el nombre \"felipe\"')\n",
        "plt.axis('equal')\n",
        "plt.show()"
      ],
      "metadata": {
        "colab": {
          "base_uri": "https://localhost:8080/",
          "height": 764
        },
        "id": "_q8bryRNvkt0",
        "outputId": "1bb9e75c-b068-4d67-edee-18434bea3003"
      },
      "execution_count": 3,
      "outputs": [
        {
          "output_type": "stream",
          "name": "stdout",
          "text": [
            "https://api.nationalize.io/?name=angel\n",
            "count: 114814\n",
            "name: angel\n",
            "country: [{'country_id': 'MU', 'probability': 0.03576663738237871}, {'country_id': 'CO', 'probability': 0.03489768195918221}, {'country_id': 'US', 'probability': 0.028020222556144447}, {'country_id': 'MX', 'probability': 0.024720014805584133}, {'country_id': 'CN', 'probability': 0.02091953163176936}]\n"
          ]
        },
        {
          "output_type": "display_data",
          "data": {
            "text/plain": [
              "<Figure size 1000x800 with 1 Axes>"
            ],
            "image/png": "[encoded data removed]"
          },
          "metadata": {}
        }
      ]
    }
  ]
}